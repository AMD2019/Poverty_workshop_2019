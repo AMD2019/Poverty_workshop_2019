{
  "nbformat": 4,
  "nbformat_minor": 0,
  "metadata": {
    "kernelspec": {
      "display_name": "Python 3",
      "language": "python",
      "name": "python3"
    },
    "language_info": {
      "codemirror_mode": {
        "name": "ipython",
        "version": 3
      },
      "file_extension": ".py",
      "mimetype": "text/x-python",
      "name": "python",
      "nbconvert_exporter": "python",
      "pygments_lexer": "ipython3",
      "version": "3.7.6"
    },
    "colab": {
      "name": "Project UNJOBS.ipynb",
      "provenance": [],
      "collapsed_sections": [],
      "include_colab_link": true
    }
  },
  "cells": [
    {
      "cell_type": "markdown",
      "metadata": {
        "id": "view-in-github",
        "colab_type": "text"
      },
      "source": [
        "<a href=\"https://colab.research.google.com/github/AMD2019/Poverty_workshop_2019/blob/master/Project_UNJOBS.ipynb\" target=\"_parent\"><img src=\"https://colab.research.google.com/assets/colab-badge.svg\" alt=\"Open In Colab\"/></a>"
      ]
    },
    {
      "cell_type": "code",
      "metadata": {
        "id": "Zt95Y1LoI_oM",
        "colab_type": "code",
        "colab": {}
      },
      "source": [
        "import requests \n",
        "import pandas as pd\n",
        "from bs4 import BeautifulSoup "
      ],
      "execution_count": null,
      "outputs": []
    },
    {
      "cell_type": "code",
      "metadata": {
        "id": "mc-vzAIzI_op",
        "colab_type": "code",
        "colab": {}
      },
      "source": [
        "# read job title\n",
        "jobs = []\n",
        "\n",
        "for page in range(1, 41):\n",
        "\n",
        "  if page == 1:\n",
        "    url = \"https://unjobs.org/\"\n",
        "  else:\n",
        "    url = \"https://unjobs.org/\" + \"/new/\" + str(page)\n",
        "\n",
        "  page = requests.get(url)\n",
        "\n",
        "  soup = BeautifulSoup(page.text, 'html.parser')\n",
        "\n",
        "  job_elements = soup.find_all(class_='job')\n",
        "\n",
        "  for job in job_elements:\n",
        "\n",
        "    try:\n",
        "      title_list = job.find_all(class_='jtitle')[0].text.split(', ')\n",
        "\n",
        "      city = title_list[1] if len(title_list) == 3 else None\n",
        "      \n",
        "      # jobs.append([\", \".join(title_list[:-2]), title_list[-2], title_list[-1], job.find_all(class_='timeago')[0].text])\n",
        "      jobs.append([title_list[0], city, title_list[-1], job.find_all(class_='timeago')[0].text])\n",
        "\n",
        "      jobs[-1].append(job.find_all(class_='jtitle')[0].get('href'))\n",
        "\n",
        "      title_ = job.find_all(class_='jtitle')[0]\n",
        "      title_.decompose()\n",
        "\n",
        "      time_ = job.find_all(class_='timeago')[0]\n",
        "      time_.decompose()\n",
        "\n",
        "      jobs[-1].append(str(job).split('<br/>')[1])\n",
        "    except:\n",
        "      pass"
      ],
      "execution_count": null,
      "outputs": []
    },
    {
      "cell_type": "code",
      "metadata": {
        "id": "qVmj8mA6chqn",
        "colab_type": "code",
        "colab": {}
      },
      "source": [
        "import pandas as pd\n",
        "df = pd.DataFrame(jobs, columns=['Job Title', 'City', 'Country', 'Timestamp', 'Job URL', 'Organization'])"
      ],
      "execution_count": null,
      "outputs": []
    },
    {
      "cell_type": "code",
      "metadata": {
        "id": "dtvhbbuEfgcm",
        "colab_type": "code",
        "colab": {}
      },
      "source": [
        "from google.colab import files\n",
        "import datetime"
      ],
      "execution_count": null,
      "outputs": []
    },
    {
      "cell_type": "code",
      "metadata": {
        "id": "MdyC1njjfhYA",
        "colab_type": "code",
        "colab": {
          "base_uri": "https://localhost:8080/",
          "height": 35
        },
        "outputId": "85bb0f08-67ac-4d61-cb44-456dc970b481"
      },
      "source": [
        "df.shape"
      ],
      "execution_count": null,
      "outputs": [
        {
          "output_type": "execute_result",
          "data": {
            "text/plain": [
              "(1000, 6)"
            ]
          },
          "metadata": {
            "tags": []
          },
          "execution_count": 176
        }
      ]
    },
    {
      "cell_type": "code",
      "metadata": {
        "id": "Em68NzR6YQJ7",
        "colab_type": "code",
        "colab": {
          "base_uri": "https://localhost:8080/",
          "height": 17
        },
        "outputId": "82fd89f5-bacf-4a7f-d36f-d2290c9a5bbd"
      },
      "source": [
        "filename = 'Jobs_' + datetime.date.today().__str__() + '.csv'\n",
        "df.to_csv(filename)\n",
        "\n",
        "files.download(filename)"
      ],
      "execution_count": null,
      "outputs": [
        {
          "output_type": "display_data",
          "data": {
            "application/javascript": [
              "\n",
              "    async function download(id, filename, size) {\n",
              "      if (!google.colab.kernel.accessAllowed) {\n",
              "        return;\n",
              "      }\n",
              "      const div = document.createElement('div');\n",
              "      const label = document.createElement('label');\n",
              "      label.textContent = `Downloading \"${filename}\": `;\n",
              "      div.appendChild(label);\n",
              "      const progress = document.createElement('progress');\n",
              "      progress.max = size;\n",
              "      div.appendChild(progress);\n",
              "      document.body.appendChild(div);\n",
              "\n",
              "      const buffers = [];\n",
              "      let downloaded = 0;\n",
              "\n",
              "      const channel = await google.colab.kernel.comms.open(id);\n",
              "      // Send a message to notify the kernel that we're ready.\n",
              "      channel.send({})\n",
              "\n",
              "      for await (const message of channel.messages) {\n",
              "        // Send a message to notify the kernel that we're ready.\n",
              "        channel.send({})\n",
              "        if (message.buffers) {\n",
              "          for (const buffer of message.buffers) {\n",
              "            buffers.push(buffer);\n",
              "            downloaded += buffer.byteLength;\n",
              "            progress.value = downloaded;\n",
              "          }\n",
              "        }\n",
              "      }\n",
              "      const blob = new Blob(buffers, {type: 'application/binary'});\n",
              "      const a = document.createElement('a');\n",
              "      a.href = window.URL.createObjectURL(blob);\n",
              "      a.download = filename;\n",
              "      div.appendChild(a);\n",
              "      a.click();\n",
              "      div.remove();\n",
              "    }\n",
              "  "
            ],
            "text/plain": [
              "<IPython.core.display.Javascript object>"
            ]
          },
          "metadata": {
            "tags": []
          }
        },
        {
          "output_type": "display_data",
          "data": {
            "application/javascript": [
              "download(\"download_824b64db-e9e6-4998-ae40-3f8615762c41\", \"Jobs_2020-08-29.csv\", 173526)"
            ],
            "text/plain": [
              "<IPython.core.display.Javascript object>"
            ]
          },
          "metadata": {
            "tags": []
          }
        }
      ]
    },
    {
      "cell_type": "code",
      "metadata": {
        "id": "Syamcp5NZhOK",
        "colab_type": "code",
        "colab": {}
      },
      "source": [
        ""
      ],
      "execution_count": null,
      "outputs": []
    },
    {
      "cell_type": "code",
      "metadata": {
        "id": "Fg0PgZ8GSv3t",
        "colab_type": "code",
        "colab": {}
      },
      "source": [
        ""
      ],
      "execution_count": null,
      "outputs": []
    }
  ]
}